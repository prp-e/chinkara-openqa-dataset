{
 "cells": [
  {
   "cell_type": "markdown",
   "id": "16801455",
   "metadata": {},
   "source": [
    "# Producing _Chinkara Open QA_ dataset"
   ]
  },
  {
   "cell_type": "markdown",
   "id": "48737191",
   "metadata": {},
   "source": [
    "This dataset is based on [DataBricks' Dolly](https://huggingface.co/datasets/databricks/databricks-dolly-15k) Dataset. We've only have taken `open_qa` parts and made our new dataset to train the new [Chinkara](https://github.com/prp-e/chinkara) model."
   ]
  },
  {
   "cell_type": "markdown",
   "id": "ed18017a",
   "metadata": {},
   "source": [
    "## Importing necessary libraries"
   ]
  },
  {
   "cell_type": "code",
   "execution_count": 1,
   "id": "7b44ff7d",
   "metadata": {},
   "outputs": [],
   "source": [
    "import os\n",
    "import json"
   ]
  },
  {
   "cell_type": "markdown",
   "id": "b4f1a75e",
   "metadata": {},
   "source": [
    "## Loading the dataset"
   ]
  },
  {
   "cell_type": "code",
   "execution_count": 2,
   "id": "b06772e3",
   "metadata": {},
   "outputs": [],
   "source": [
    "file = \"databricks-dolly-15k.jsonl\"\n",
    "dataset_file = open(file)"
   ]
  },
  {
   "cell_type": "code",
   "execution_count": 4,
   "id": "bf169f39",
   "metadata": {},
   "outputs": [],
   "source": [
    "data = []\n",
    "\n",
    "for line in dataset_file.readlines():\n",
    "    datum = json.loads(line)\n",
    "    data.append(datum)"
   ]
  },
  {
   "cell_type": "code",
   "execution_count": 7,
   "id": "38095587",
   "metadata": {},
   "outputs": [
    {
     "data": {
      "text/plain": [
       "15011"
      ]
     },
     "execution_count": 7,
     "metadata": {},
     "output_type": "execute_result"
    }
   ],
   "source": [
    "len(data)"
   ]
  },
  {
   "cell_type": "markdown",
   "id": "d471f91a",
   "metadata": {},
   "source": [
    "## Separation of *open_qa* instructions"
   ]
  },
  {
   "cell_type": "code",
   "execution_count": null,
   "id": "09650079",
   "metadata": {},
   "outputs": [],
   "source": []
  }
 ],
 "metadata": {
  "kernelspec": {
   "display_name": "Python 3 (ipykernel)",
   "language": "python",
   "name": "python3"
  },
  "language_info": {
   "codemirror_mode": {
    "name": "ipython",
    "version": 3
   },
   "file_extension": ".py",
   "mimetype": "text/x-python",
   "name": "python",
   "nbconvert_exporter": "python",
   "pygments_lexer": "ipython3",
   "version": "3.11.1"
  }
 },
 "nbformat": 4,
 "nbformat_minor": 5
}
