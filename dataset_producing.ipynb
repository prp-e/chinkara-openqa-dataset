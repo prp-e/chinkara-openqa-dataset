{
 "cells": [
  {
   "cell_type": "markdown",
   "id": "47a80421",
   "metadata": {},
   "source": [
    "# Producing _Chinkara Open QA_ dataset"
   ]
  },
  {
   "cell_type": "markdown",
   "id": "a22570db",
   "metadata": {},
   "source": [
    "This dataset is based on [DataBricks' Dolly](https://huggingface.co/datasets/databricks/databricks-dolly-15k) Dataset. We've only have taken `open_qa` parts and made our new dataset to train the new [Chinkara](https://github.com/prp-e/chinkara) model."
   ]
  },
  {
   "cell_type": "markdown",
   "id": "027af3a9",
   "metadata": {},
   "source": [
    "## Importing necessary libraries"
   ]
  },
  {
   "cell_type": "code",
   "execution_count": 1,
   "id": "26a9be61",
   "metadata": {},
   "outputs": [],
   "source": [
    "import os\n",
    "import json"
   ]
  },
  {
   "cell_type": "markdown",
   "id": "52839881",
   "metadata": {},
   "source": [
    "## Loading the dataset"
   ]
  },
  {
   "cell_type": "code",
   "execution_count": 2,
   "id": "1383a14b",
   "metadata": {},
   "outputs": [],
   "source": [
    "file = \"databricks-dolly-15k.jsonl\"\n",
    "dataset_file = open(file)"
   ]
  },
  {
   "cell_type": "code",
   "execution_count": 4,
   "id": "c901591a",
   "metadata": {},
   "outputs": [],
   "source": [
    "data = []\n",
    "\n",
    "for line in dataset_file.readlines():\n",
    "    datum = json.loads(line)\n",
    "    data.append(datum)"
   ]
  },
  {
   "cell_type": "code",
   "execution_count": 7,
   "id": "afbc26c6",
   "metadata": {},
   "outputs": [
    {
     "data": {
      "text/plain": [
       "15011"
      ]
     },
     "execution_count": 7,
     "metadata": {},
     "output_type": "execute_result"
    }
   ],
   "source": [
    "len(data)"
   ]
  },
  {
   "cell_type": "markdown",
   "id": "ea038735",
   "metadata": {},
   "source": [
    "## Separation of *open_qa* instructions"
   ]
  },
  {
   "cell_type": "code",
   "execution_count": 10,
   "id": "67195b2b",
   "metadata": {},
   "outputs": [],
   "source": [
    "open_qa = []"
   ]
  },
  {
   "cell_type": "code",
   "execution_count": 11,
   "id": "c390629c",
   "metadata": {},
   "outputs": [],
   "source": [
    "for datum in data:\n",
    "    if datum['category'] == 'open_qa':\n",
    "        open_qa.append(datum)"
   ]
  },
  {
   "cell_type": "code",
   "execution_count": 12,
   "id": "18efb5d2",
   "metadata": {},
   "outputs": [
    {
     "data": {
      "text/plain": [
       "3742"
      ]
     },
     "execution_count": 12,
     "metadata": {},
     "output_type": "execute_result"
    }
   ],
   "source": [
    "len(open_qa)"
   ]
  },
  {
   "cell_type": "markdown",
   "id": "972e2178",
   "metadata": {},
   "source": [
    "## Creating a dataset with proper format"
   ]
  },
  {
   "cell_type": "code",
   "execution_count": 19,
   "id": "e290459f",
   "metadata": {},
   "outputs": [],
   "source": [
    "test_subject = open_qa[1300]"
   ]
  },
  {
   "cell_type": "code",
   "execution_count": 20,
   "id": "b49d11eb",
   "metadata": {},
   "outputs": [],
   "source": [
    "final = f\"### Human: {test_subject['instruction']} ### Assistant: {test_subject['response']}\""
   ]
  },
  {
   "cell_type": "code",
   "execution_count": 21,
   "id": "211b80fe",
   "metadata": {},
   "outputs": [
    {
     "data": {
      "text/plain": [
       "\"### Human: Who are some of the best basketball players of all time? ### Assistant: There are often arguments about who the best basketball players of all time are.  In most circles, there are three people that come up in this discussion most often and they are Michael Jordan, Lebron James, and Kareem Abdul-Jabbar.  Michael Jordan won 6 championships in a row after taking a hiatus from basketball between his 3rd and 4th championship.  Until recently, Kareem held the all-time scoring record in the NBA with 38,387 points.  Recently he was surpassed for most points all-time by Lebron James who also has 4 championships with 3 different teams.  This is an argument that will never be completely closed as everyone has a different opinion, but it's tough to argue against Michael Jordan due to the fact he won 6 rings in a row.\""
      ]
     },
     "execution_count": 21,
     "metadata": {},
     "output_type": "execute_result"
    }
   ],
   "source": [
    "final"
   ]
  },
  {
   "cell_type": "markdown",
   "id": "f52e946f",
   "metadata": {},
   "source": [
    "### Making the finalized dataset"
   ]
  },
  {
   "cell_type": "code",
   "execution_count": null,
   "id": "09f524f8",
   "metadata": {},
   "outputs": [],
   "source": []
  }
 ],
 "metadata": {
  "kernelspec": {
   "display_name": "Python 3 (ipykernel)",
   "language": "python",
   "name": "python3"
  },
  "language_info": {
   "codemirror_mode": {
    "name": "ipython",
    "version": 3
   },
   "file_extension": ".py",
   "mimetype": "text/x-python",
   "name": "python",
   "nbconvert_exporter": "python",
   "pygments_lexer": "ipython3",
   "version": "3.11.1"
  }
 },
 "nbformat": 4,
 "nbformat_minor": 5
}
