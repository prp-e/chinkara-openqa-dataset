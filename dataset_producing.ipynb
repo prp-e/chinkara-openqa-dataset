{
 "cells": [
  {
   "cell_type": "markdown",
   "id": "fca6571d",
   "metadata": {},
   "source": [
    "# Producing _Chinkara Open QA_ dataset"
   ]
  },
  {
   "cell_type": "markdown",
   "id": "12451716",
   "metadata": {},
   "source": [
    "This dataset is based on [DataBricks' Dolly](https://huggingface.co/datasets/databricks/databricks-dolly-15k) Dataset. We've only have taken `open_qa` parts and made our new dataset to train the new [Chinkara](https://github.com/prp-e/chinkara) model."
   ]
  },
  {
   "cell_type": "markdown",
   "id": "a785eb21",
   "metadata": {},
   "source": [
    "## Importing necessary libraries"
   ]
  },
  {
   "cell_type": "code",
   "execution_count": 1,
   "id": "f14cff10",
   "metadata": {},
   "outputs": [],
   "source": [
    "import os\n",
    "import json"
   ]
  },
  {
   "cell_type": "markdown",
   "id": "205b9c0b",
   "metadata": {},
   "source": [
    "## Loading the dataset"
   ]
  },
  {
   "cell_type": "code",
   "execution_count": 2,
   "id": "8d8ca9ae",
   "metadata": {},
   "outputs": [],
   "source": [
    "file = \"databricks-dolly-15k.jsonl\"\n",
    "dataset_file = open(file)"
   ]
  },
  {
   "cell_type": "code",
   "execution_count": 4,
   "id": "dda1c1fa",
   "metadata": {},
   "outputs": [],
   "source": [
    "data = []\n",
    "\n",
    "for line in dataset_file.readlines():\n",
    "    datum = json.loads(line)\n",
    "    data.append(datum)"
   ]
  },
  {
   "cell_type": "code",
   "execution_count": 7,
   "id": "167402f0",
   "metadata": {},
   "outputs": [
    {
     "data": {
      "text/plain": [
       "15011"
      ]
     },
     "execution_count": 7,
     "metadata": {},
     "output_type": "execute_result"
    }
   ],
   "source": [
    "len(data)"
   ]
  },
  {
   "cell_type": "markdown",
   "id": "e20802ff",
   "metadata": {},
   "source": [
    "## Separation of *open_qa* instructions"
   ]
  },
  {
   "cell_type": "code",
   "execution_count": 10,
   "id": "526368a4",
   "metadata": {},
   "outputs": [],
   "source": [
    "open_qa = []"
   ]
  },
  {
   "cell_type": "code",
   "execution_count": 11,
   "id": "20d66058",
   "metadata": {},
   "outputs": [],
   "source": [
    "for datum in data:\n",
    "    if datum['category'] == 'open_qa':\n",
    "        open_qa.append(datum)"
   ]
  },
  {
   "cell_type": "code",
   "execution_count": 12,
   "id": "2a272237",
   "metadata": {},
   "outputs": [
    {
     "data": {
      "text/plain": [
       "3742"
      ]
     },
     "execution_count": 12,
     "metadata": {},
     "output_type": "execute_result"
    }
   ],
   "source": [
    "len(open_qa)"
   ]
  },
  {
   "cell_type": "markdown",
   "id": "30cd3f1f",
   "metadata": {},
   "source": [
    "## Creating a dataset with proper format"
   ]
  },
  {
   "cell_type": "code",
   "execution_count": null,
   "id": "ac56dc2f",
   "metadata": {},
   "outputs": [],
   "source": []
  }
 ],
 "metadata": {
  "kernelspec": {
   "display_name": "Python 3 (ipykernel)",
   "language": "python",
   "name": "python3"
  },
  "language_info": {
   "codemirror_mode": {
    "name": "ipython",
    "version": 3
   },
   "file_extension": ".py",
   "mimetype": "text/x-python",
   "name": "python",
   "nbconvert_exporter": "python",
   "pygments_lexer": "ipython3",
   "version": "3.11.1"
  }
 },
 "nbformat": 4,
 "nbformat_minor": 5
}
